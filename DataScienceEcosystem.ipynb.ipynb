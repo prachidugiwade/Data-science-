{
 "cells": [
  {
   "cell_type": "markdown",
   "id": "4558d957-0fcd-4d66-bac7-65930e035ebe",
   "metadata": {},
   "source": [
    "Data Science Tools and Ecosystem"
   ]
  },
  {
   "cell_type": "code",
   "execution_count": null,
   "id": "dd0bc30b-415a-4f6b-8412-f141a44f0cde",
   "metadata": {},
   "outputs": [],
   "source": [
    "## Data Science Languages\n",
    "\n",
    "Some of the popular languages that Data Scientists use are:\n",
    "\n",
    "1. Python  \n",
    "2. R  \n",
    "3. SQL  \n",
    "4. Java  \n",
    "5. Julia\n"
   ]
  },
  {
   "cell_type": "code",
   "execution_count": null,
   "id": "f10da3f7-e332-4385-a3a7-6bdc74cba97e",
   "metadata": {},
   "outputs": [],
   "source": [
    "## Data Science Libraries\n",
    "\n",
    "Some of the commonly used libraries used by Data Scientists include:\n",
    "\n",
    "1. Pandas  \n",
    "2. NumPy  \n",
    "3. Matplotlib  \n",
    "4. Seaborn  \n",
    "5. Scikit-learn  \n",
    "6. TensorFlow\n"
   ]
  },
  {
   "cell_type": "code",
   "execution_count": null,
   "id": "6d84afe2-51a9-4b28-96ca-a6c35f908d5a",
   "metadata": {},
   "outputs": [],
   "source": [
    "## Data Science Tools\n",
    "\n",
    " Tool Category       Example Tool       \n",
    " Data Analysis -      Pandas             \n",
    " Data Visualization - Matplotlib         \n",
    " Machine Learning  -  Scikit-learn       \n",
    " Deep Learning      - TensorFlow        \n",
    " Big Data Processing - Apache Spark       \n",
    " Notebook Environment - Jupyter Notebook \n"
   ]
  },
  {
   "cell_type": "code",
   "execution_count": null,
   "id": "7d988d75-0f16-4151-8e0a-10fee09c3f25",
   "metadata": {},
   "outputs": [],
   "source": [
    "# This expression subtracts 7 from 15 and then divides by 2\n",
    "(15 - 7) / 2\n"
   ]
  },
  {
   "cell_type": "code",
   "execution_count": 4,
   "id": "9a25b95e-32d9-4dda-bd90-4341b57e993d",
   "metadata": {},
   "outputs": [
    {
     "name": "stdout",
     "output_type": "stream",
     "text": [
      "The result of (3 * 4) + 5 is: 17\n"
     ]
    }
   ],
   "source": [
    "# This is a simple arithmetic expression to multiply then add integers\n",
    "a = 3\n",
    "b = 4\n",
    "c = 5\n",
    "\n",
    "result = (a * b) + c\n",
    "print(\"The result of (3 * 4) + 5 is:\", result)\n"
   ]
  },
  {
   "cell_type": "code",
   "execution_count": 5,
   "id": "55cc49d5-d052-4c9f-a4be-b53476577384",
   "metadata": {},
   "outputs": [
    {
     "name": "stdout",
     "output_type": "stream",
     "text": [
      "200 minutes is equal to 3.3333333333333335 hours\n"
     ]
    }
   ],
   "source": [
    "# This will convert 200 minutes to hours by dividing by 60\n",
    "minutes = 200\n",
    "hours = minutes / 60\n",
    "print(\"200 minutes is equal to\", hours, \"hours\")\n"
   ]
  },
  {
   "cell_type": "code",
   "execution_count": null,
   "id": "dd97eff8-8b61-4bf8-b10c-7fbb5aea0dd1",
   "metadata": {},
   "outputs": [],
   "source": [
    "**Objectives:**\n",
    "\n",
    "- List popular languages used in Data Science  \n",
    "- Identify commonly used libraries in Data Science  \n",
    "- Create and format tables using Markdown  \n",
    "- Perform\n"
   ]
  },
  {
   "cell_type": "code",
   "execution_count": null,
   "id": "a5637bd8-868f-4542-88bd-fa48120a68d3",
   "metadata": {},
   "outputs": [],
   "source": [
    "## Author\n",
    "\n",
    "Prachi D\n"
   ]
  },
  {
   "cell_type": "code",
   "execution_count": null,
   "id": "89a11ad4-35cb-4b57-bdc4-8e2bdf1f4452",
   "metadata": {},
   "outputs": [],
   "source": []
  },
  {
   "cell_type": "code",
   "execution_count": null,
   "id": "c549a715-ac73-4f10-9357-3dc6ba9e493c",
   "metadata": {},
   "outputs": [],
   "source": []
  }
 ],
 "metadata": {
  "kernelspec": {
   "display_name": "Python 3 (ipykernel)",
   "language": "python",
   "name": "python3"
  },
  "language_info": {
   "codemirror_mode": {
    "name": "ipython",
    "version": 3
   },
   "file_extension": ".py",
   "mimetype": "text/x-python",
   "name": "python",
   "nbconvert_exporter": "python",
   "pygments_lexer": "ipython3",
   "version": "3.12.7"
  }
 },
 "nbformat": 4,
 "nbformat_minor": 5
}
